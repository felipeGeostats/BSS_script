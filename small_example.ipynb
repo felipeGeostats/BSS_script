{
 "cells": [
  {
   "cell_type": "markdown",
   "metadata": {},
   "source": [
    "# Import packages"
   ]
  },
  {
   "cell_type": "code",
   "execution_count": 1,
   "metadata": {
    "ExecuteTime": {
     "end_time": "2019-12-17T18:02:18.842715Z",
     "start_time": "2019-12-17T18:02:18.717957Z"
    }
   },
   "outputs": [
    {
     "name": "stdout",
     "output_type": "stream",
     "text": [
      "Numpy version:  1.16.4\n",
      "Scipy version:  1.2.1\n"
     ]
    }
   ],
   "source": [
    "import numpy as np; print(\"Numpy version: \",np.__version__)\n",
    "import scipy as sc; print(\"Scipy version: \",sc.__version__)\n",
    "import scipy.spatial as sps\n",
    "from scipy.linalg import svd"
   ]
  },
  {
   "cell_type": "code",
   "execution_count": 2,
   "metadata": {
    "ExecuteTime": {
     "end_time": "2019-12-17T18:02:19.120787Z",
     "start_time": "2019-12-17T18:02:19.116765Z"
    }
   },
   "outputs": [],
   "source": [
    "# Set number of decimal places to 3\n",
    "np.set_printoptions(formatter={'float': '{: 0.3f}'.format})"
   ]
  },
  {
   "cell_type": "markdown",
   "metadata": {},
   "source": [
    "# Functions"
   ]
  },
  {
   "cell_type": "code",
   "execution_count": 3,
   "metadata": {
    "ExecuteTime": {
     "end_time": "2019-12-17T18:02:20.528971Z",
     "start_time": "2019-12-17T18:02:20.525009Z"
    }
   },
   "outputs": [],
   "source": [
    "# Define function to calculate the covariances\n",
    "\n",
    "def covar ( t, d, r ):\n",
    "    h = d / r\n",
    "    if t == 1: #Spherical\n",
    "        c = 1 - h * (1.5 - 0.5 * h**2)\n",
    "        c[h > 1] = 0\n",
    "    elif t == 2: #Exponential\n",
    "        c = np.exp( -3 * h )\n",
    "    elif t == 3: #Gaussian\n",
    "        c = np.exp( -3 * h**2 )\n",
    "    return c"
   ]
  },
  {
   "cell_type": "markdown",
   "metadata": {},
   "source": [
    "## Data"
   ]
  },
  {
   "cell_type": "code",
   "execution_count": 31,
   "metadata": {
    "ExecuteTime": {
     "end_time": "2019-12-17T17:14:52.253460Z",
     "start_time": "2019-12-17T17:14:52.249456Z"
    }
   },
   "outputs": [],
   "source": [
    "\"\"\" This piece of code is used to generate correlated data given a correlation matrix. We used it to generate the vector of data\n",
    "in the small example section\"\"\"\n",
    "\n",
    "# Correlation matrix\n",
    "corr_mat= np.array([[1.0, 0.62],\n",
    "                    [0.62, 1.0]])\n",
    "\n",
    "# Compute the (upper) Cholesky decomposition matrix\n",
    "upper_chol = sc.linalg.cholesky(corr_mat)\n",
    "\n",
    "# Generate series of normally distributed (Gaussian) numbers\n",
    "rnd = np.random.normal(0.0, 1.0, size=(2, 2))\n",
    "\n",
    "# Finally, compute the inner product of upper_chol and rnd\n",
    "data = rnd @ upper_chol"
   ]
  },
  {
   "cell_type": "markdown",
   "metadata": {},
   "source": [
    "## Problem setup"
   ]
  },
  {
   "cell_type": "code",
   "execution_count": 4,
   "metadata": {
    "ExecuteTime": {
     "end_time": "2019-12-17T18:02:25.424888Z",
     "start_time": "2019-12-17T18:02:25.420924Z"
    }
   },
   "outputs": [
    {
     "name": "stdout",
     "output_type": "stream",
     "text": [
      "Vector of data values, z:\n",
      "[[ 0.146 -0.264]\n",
      " [-1.207  1.155]]\n"
     ]
    }
   ],
   "source": [
    "# Consider Z1 and Z2 from the example\n",
    "z = np.array([[0.146, -0.264],[-1.207,  1.155]])\n",
    "print(\"Vector of data values, z:\")\n",
    "print(z)"
   ]
  },
  {
   "cell_type": "code",
   "execution_count": 5,
   "metadata": {
    "ExecuteTime": {
     "end_time": "2019-12-17T18:02:26.000640Z",
     "start_time": "2019-12-17T18:02:25.996667Z"
    }
   },
   "outputs": [],
   "source": [
    "# Define the LMC coefficients\n",
    "A = np.array([[ 0.843 , 0.504 , 0.168 , 0.084], [ 0.347 , 0.347,  0.867 , 0.087]])"
   ]
  },
  {
   "cell_type": "code",
   "execution_count": 6,
   "metadata": {
    "ExecuteTime": {
     "end_time": "2019-12-17T18:02:26.447380Z",
     "start_time": "2019-12-17T18:02:26.445384Z"
    }
   },
   "outputs": [
    {
     "name": "stdout",
     "output_type": "stream",
     "text": [
      "LMC squared coefficients explaining the contribution of the direct variogram structures\n",
      "[[ 0.711  0.254  0.028  0.007]\n",
      " [ 0.120  0.120  0.752  0.008]]\n"
     ]
    }
   ],
   "source": [
    "print(\"LMC squared coefficients explaining the contribution of the direct variogram structures\")\n",
    "print(A**2)"
   ]
  },
  {
   "cell_type": "code",
   "execution_count": 7,
   "metadata": {
    "ExecuteTime": {
     "end_time": "2019-12-17T18:02:27.696363Z",
     "start_time": "2019-12-17T18:02:27.693407Z"
    }
   },
   "outputs": [
    {
     "name": "stdout",
     "output_type": "stream",
     "text": [
      "LMC cross coefficients explaining the contribution of the cross variogram structures\n",
      "[ 0.293  0.175  0.146  0.007]\n"
     ]
    }
   ],
   "source": [
    "print(\"LMC cross coefficients explaining the contribution of the cross variogram structures\")\n",
    "print(np.prod(A, axis=0))"
   ]
  },
  {
   "cell_type": "code",
   "execution_count": 8,
   "metadata": {
    "ExecuteTime": {
     "end_time": "2019-12-17T18:02:28.242562Z",
     "start_time": "2019-12-17T18:02:28.237574Z"
    }
   },
   "outputs": [
    {
     "name": "stdout",
     "output_type": "stream",
     "text": [
      "Matrix of A coefficients:\n",
      "[[ 0.843  0.504  0.168  0.084]\n",
      " [ 0.347  0.347  0.867  0.087]] \n",
      "\n",
      "Sum to unity check (check if the LMC coefficients add up to 1)\n",
      "[ 1.000  1.000] \n",
      "\n",
      "A'A == correlation check (check if the LMC fits the correlation of 0.62)\n",
      "[[ 1.000  0.620]\n",
      " [ 0.620  1.000]]\n"
     ]
    }
   ],
   "source": [
    "print(\"Matrix of A coefficients:\")\n",
    "print(A,\"\\n\")\n",
    "\n",
    "print(\"Sum to unity check (check if the LMC coefficients add up to 1)\")\n",
    "print(np.sum(A**2,1),\"\\n\")\n",
    "\n",
    "print(\"A'A == correlation check (check if the LMC fits the correlation of 0.62)\")\n",
    "print(np.matmul(A,A.T))"
   ]
  },
  {
   "cell_type": "code",
   "execution_count": 9,
   "metadata": {
    "ExecuteTime": {
     "end_time": "2019-12-17T18:02:29.489123Z",
     "start_time": "2019-12-17T18:02:29.485134Z"
    }
   },
   "outputs": [],
   "source": [
    "# Define some variables for the example\n",
    "nvars = 2 # number of variables\n",
    "nstruct = 4 # number of LMC structures\n",
    "structtype = np.array([1,1,1,1]) # structure types (1 = spherical)\n",
    "ranges = [2,4,7,10] # variogram ranges"
   ]
  },
  {
   "cell_type": "code",
   "execution_count": 10,
   "metadata": {
    "ExecuteTime": {
     "end_time": "2019-12-17T18:02:29.793214Z",
     "start_time": "2019-12-17T18:02:29.789224Z"
    }
   },
   "outputs": [
    {
     "name": "stdout",
     "output_type": "stream",
     "text": [
      "Data locations\n",
      "[[0 0]\n",
      " [0 1]]\n"
     ]
    }
   ],
   "source": [
    "# Define data locations\n",
    "locs = np.array([[0,0],[0,1]])\n",
    "print(\"Data locations\")\n",
    "print(locs)"
   ]
  },
  {
   "cell_type": "markdown",
   "metadata": {},
   "source": [
    "## Covariances and cokriging"
   ]
  },
  {
   "cell_type": "code",
   "execution_count": 11,
   "metadata": {
    "ExecuteTime": {
     "end_time": "2019-12-17T18:02:31.425977Z",
     "start_time": "2019-12-17T18:02:31.420960Z"
    }
   },
   "outputs": [],
   "source": [
    "# Compute distance matrix and Setup block covariance matrix for all Y's\n",
    "\n",
    "a = 0 * 3.14159265358979 / 180 # setting rotation to zero (no anisotropy)\n",
    "rmat = np.asarray([[np.cos(a),-np.sin(a)],[np.sin(a),np.cos(a)]]) # define rotation matrix\n",
    "p = locs.copy() # make a copy of data location\n",
    "pm = np.mean(p) # centre calculations\n",
    "q0 = np.matmul(p-pm,rmat)\n",
    "\n",
    "nxy = locs.shape[0] # number of locations\n",
    "\n",
    "C = [] # store covariances\n",
    "for i in range(nstruct): # calculate covariances\n",
    "    Q = q0.copy()\n",
    "    Q[:,0] = Q[:,0] / ranges[i]\n",
    "    Q[:,1] = Q[:,1] / ranges[i]\n",
    "    d = sps.distance_matrix(Q,Q)\n",
    "    c = covar(structtype[i],d,1)\n",
    "    C.append(c)"
   ]
  },
  {
   "cell_type": "code",
   "execution_count": 12,
   "metadata": {
    "ExecuteTime": {
     "end_time": "2019-12-17T18:02:31.840362Z",
     "start_time": "2019-12-17T18:02:31.837347Z"
    }
   },
   "outputs": [
    {
     "name": "stdout",
     "output_type": "stream",
     "text": [
      "Covariance matrices (by structure):\n",
      "Structure 1\n",
      "[[ 1.000  0.312]\n",
      " [ 0.312  1.000]]\n",
      "Structure 2\n",
      "[[ 1.000  0.633]\n",
      " [ 0.633  1.000]]\n",
      "Structure 3\n",
      "[[ 1.000  0.787]\n",
      " [ 0.787  1.000]]\n",
      "Structure 4\n",
      "[[ 1.000  0.851]\n",
      " [ 0.851  1.000]]\n"
     ]
    }
   ],
   "source": [
    "print(\"Covariance matrices (by structure):\")\n",
    "for i in range(nstruct):\n",
    "    print(\"Structure {}\".format(i+1))\n",
    "    print(C[i])"
   ]
  },
  {
   "cell_type": "code",
   "execution_count": 13,
   "metadata": {
    "ExecuteTime": {
     "end_time": "2019-12-17T18:02:33.827018Z",
     "start_time": "2019-12-17T18:02:33.821028Z"
    }
   },
   "outputs": [
    {
     "name": "stdout",
     "output_type": "stream",
     "text": [
      "Generating SigmaY (CY) and reshape A matrices (AY)\n",
      "CY = \n",
      " [[ 1.000  0.312  0.000  0.000  0.000  0.000  0.000  0.000]\n",
      " [ 0.312  1.000  0.000  0.000  0.000  0.000  0.000  0.000]\n",
      " [ 0.000  0.000  1.000  0.633  0.000  0.000  0.000  0.000]\n",
      " [ 0.000  0.000  0.633  1.000  0.000  0.000  0.000  0.000]\n",
      " [ 0.000  0.000  0.000  0.000  1.000  0.787  0.000  0.000]\n",
      " [ 0.000  0.000  0.000  0.000  0.787  1.000  0.000  0.000]\n",
      " [ 0.000  0.000  0.000  0.000  0.000  0.000  1.000  0.851]\n",
      " [ 0.000  0.000  0.000  0.000  0.000  0.000  0.851  1.000]]\n",
      "\n",
      "AY = \n",
      " [[ 0.843  0.000  0.504  0.000  0.168  0.000  0.084  0.000]\n",
      " [ 0.000  0.843  0.000  0.504  0.000  0.168  0.000  0.084]\n",
      " [ 0.347  0.000  0.347  0.000  0.867  0.000  0.087  0.000]\n",
      " [ 0.000  0.347  0.000  0.347  0.000  0.867  0.000  0.087]]\n"
     ]
    }
   ],
   "source": [
    "print('Generating SigmaY (CY) and reshape A matrices (AY)')\n",
    "\n",
    "CY = np.zeros([nstruct*nxy,nstruct*nxy])\n",
    "AY = np.zeros([nvars*nxy,nstruct*nxy])\n",
    "for i in range(nstruct):\n",
    "    CY[i*nxy:(i+1)*nxy,i*nxy:(i+1)*nxy] = C[i]\n",
    "    AY[0:nxy,i*nxy:(i+1)*nxy] = np.eye(nxy) * A[0,i]\n",
    "    AY[nxy:2*nxy,i*nxy:(i+1)*nxy] = np.eye(nxy) * A[1,i]\n",
    "\n",
    "print(\"CY = \\n\",CY)\n",
    "print(\"\\nAY = \\n\",AY)"
   ]
  },
  {
   "cell_type": "code",
   "execution_count": 14,
   "metadata": {
    "ExecuteTime": {
     "end_time": "2019-12-17T18:02:36.449495Z",
     "start_time": "2019-12-17T18:02:36.444539Z"
    }
   },
   "outputs": [
    {
     "name": "stdout",
     "output_type": "stream",
     "text": [
      "Covariance matrix between Y and Z\n",
      "Cyz = CY @ AY.T\n",
      "Cyz = \n",
      " [[ 0.843  0.263  0.347  0.108]\n",
      " [ 0.263  0.843  0.108  0.347]\n",
      " [ 0.504  0.319  0.347  0.220]\n",
      " [ 0.319  0.504  0.220  0.347]\n",
      " [ 0.168  0.132  0.867  0.682]\n",
      " [ 0.132  0.168  0.682  0.867]\n",
      " [ 0.084  0.071  0.087  0.074]\n",
      " [ 0.071  0.084  0.074  0.087]]\n",
      "\n",
      "Covariance matrix of Z\n",
      "CZ = AY @ CY @ AY.T\n",
      "CZ = \n",
      " [[ 1.000  0.411  0.620  0.323]\n",
      " [ 0.411  1.000  0.323  0.620]\n",
      " [ 0.620  0.323  1.000  0.712]\n",
      " [ 0.323  0.620  0.712  1.000]]\n"
     ]
    }
   ],
   "source": [
    "print(\"Covariance matrix between Y and Z\")\n",
    "print(\"Cyz = CY @ AY.T\")\n",
    "Cyz = CY @ AY.T\n",
    "\n",
    "print(\"Cyz = \\n\",Cyz)\n",
    "\n",
    "print(\"\\nCovariance matrix of Z\")\n",
    "print(\"CZ = AY @ CY @ AY.T\")\n",
    "CZ = AY @ CY @ AY.T\n",
    "\n",
    "print(\"CZ = \\n\",CZ)"
   ]
  },
  {
   "cell_type": "code",
   "execution_count": 15,
   "metadata": {
    "ExecuteTime": {
     "end_time": "2019-12-17T18:02:37.969391Z",
     "start_time": "2019-12-17T18:02:37.964435Z"
    }
   },
   "outputs": [
    {
     "name": "stdout",
     "output_type": "stream",
     "text": [
      "Conditional mean solution (cokriging y given z)\n",
      "y0 =\n",
      " [[ 0.452 -0.343 -0.343 -0.053]\n",
      " [-1.705 -0.251  2.113  0.020]]\n"
     ]
    }
   ],
   "source": [
    "print(\"Conditional mean solution (cokriging y given z)\")\n",
    "d = np.linalg.solve(CZ,np.reshape(z.T,[nvars*nxy,1]))\n",
    "ybar = Cyz @ d\n",
    "y0 = np.reshape(ybar,[nstruct,nxy]).T\n",
    "\n",
    "print(\"y0 =\\n\",y0)"
   ]
  },
  {
   "cell_type": "code",
   "execution_count": 16,
   "metadata": {
    "ExecuteTime": {
     "end_time": "2019-12-17T18:02:38.929303Z",
     "start_time": "2019-12-17T18:02:38.924320Z"
    }
   },
   "outputs": [
    {
     "name": "stdout",
     "output_type": "stream",
     "text": [
      "Checking the cokriging estimates to ensure numerical consistency of Zs\n",
      "Estimates matrix / reference matrix\n",
      "[ 0.146 -0.264] [ 0.146 -0.264]\n",
      "[-1.207  1.155] [-1.207  1.155]\n"
     ]
    }
   ],
   "source": [
    "print(\"Checking the cokriging estimates to ensure numerical consistency of Zs\")\n",
    "print(\"Estimates matrix / reference matrix\")\n",
    "\n",
    "zt = np.matmul(A,y0.T).T\n",
    "for i in range(2):\n",
    "    print(zt[i,:],z[i,:])"
   ]
  },
  {
   "cell_type": "markdown",
   "metadata": {},
   "source": [
    "## Singular value decomposition"
   ]
  },
  {
   "cell_type": "code",
   "execution_count": 17,
   "metadata": {
    "ExecuteTime": {
     "end_time": "2019-12-17T18:02:40.928169Z",
     "start_time": "2019-12-17T18:02:40.924207Z"
    }
   },
   "outputs": [],
   "source": [
    "u,s,v = svd(AY, full_matrices=True, lapack_driver='gesvd')"
   ]
  },
  {
   "cell_type": "code",
   "execution_count": 18,
   "metadata": {
    "ExecuteTime": {
     "end_time": "2019-12-17T18:02:41.841075Z",
     "start_time": "2019-12-17T18:02:41.837057Z"
    }
   },
   "outputs": [
    {
     "name": "stdout",
     "output_type": "stream",
     "text": [
      "SVD matrices \n",
      "\n",
      "Matrix U =\n",
      " [[ 0.000 -0.707  0.707  0.000]\n",
      " [ 0.707  0.000  0.000 -0.707]\n",
      " [ 0.000 -0.707 -0.707  0.000]\n",
      " [ 0.707  0.000 -0.000  0.707]]\n",
      "\n",
      "Matrix S =\n",
      " [ 1.273  1.273  0.616  0.616]\n",
      "\n",
      "Matrix V =\n",
      " [[ 0.000  0.661  0.000  0.473  0.000  0.575  0.000  0.095]\n",
      " [-0.661 -0.000 -0.473 -0.000 -0.575 -0.000 -0.095 -0.000]\n",
      " [ 0.569 -0.000  0.180 -0.000 -0.802 -0.000 -0.003 -0.000]\n",
      " [-0.000 -0.569 -0.000 -0.180 -0.000  0.802 -0.000  0.003]\n",
      " [ 0.486  0.000 -0.860  0.000  0.152  0.000 -0.027  0.000]\n",
      " [ 0.000  0.486  0.000 -0.860  0.000  0.152  0.000 -0.027]\n",
      " [-0.048  0.000 -0.068  0.000 -0.054  0.000  0.995  0.000]\n",
      " [ 0.000 -0.048  0.000 -0.068  0.000 -0.054  0.000  0.995]]\n"
     ]
    }
   ],
   "source": [
    "print(\"SVD matrices \\n\")\n",
    "print(\"Matrix U =\\n\",u)\n",
    "print(\"\\nMatrix S =\\n\",s)\n",
    "print(\"\\nMatrix V =\\n\",v)"
   ]
  },
  {
   "cell_type": "code",
   "execution_count": 23,
   "metadata": {
    "ExecuteTime": {
     "end_time": "2019-12-17T18:19:07.366502Z",
     "start_time": "2019-12-17T18:19:07.360548Z"
    }
   },
   "outputs": [
    {
     "name": "stdout",
     "output_type": "stream",
     "text": [
      "Orthonormal basis, =\n",
      " [[ 0.000  0.661  0.000  0.473  0.000  0.575  0.000  0.095]\n",
      " [-0.661 -0.000 -0.473 -0.000 -0.575 -0.000 -0.095 -0.000]\n",
      " [ 0.569 -0.000  0.180 -0.000 -0.802 -0.000 -0.003 -0.000]\n",
      " [-0.000 -0.569 -0.000 -0.180 -0.000  0.802 -0.000  0.003]]\n",
      "\n",
      "Orthogonal complement, (row space of v) =\n",
      " [[ 0.486  0.000 -0.860  0.000  0.152  0.000 -0.027  0.000]\n",
      " [ 0.000  0.486  0.000 -0.860  0.000  0.152  0.000 -0.027]\n",
      " [-0.048  0.000 -0.068  0.000 -0.054  0.000  0.995  0.000]\n",
      " [ 0.000 -0.048  0.000 -0.068  0.000 -0.054  0.000  0.995]]\n",
      "\n",
      "Lambda = \n",
      " [[ 0.430  0.144 -0.882  0.067  0.210 -0.078 -0.028  0.007]\n",
      " [ 0.144  0.430  0.067 -0.882 -0.078  0.210  0.007 -0.028]\n",
      " [-0.036 -0.030 -0.060 -0.019 -0.044 -0.011  0.997 -0.003]\n",
      " [-0.030 -0.036 -0.019 -0.060 -0.011 -0.044 -0.003  0.997]]\n"
     ]
    }
   ],
   "source": [
    "# Orthogonal complement - row space of v\n",
    "vorth = v[0:nvars*nxy,:]\n",
    "vperp = v[nvars*nxy:,:]\n",
    "\n",
    "print(\"Orthonormal basis, =\\n\",vorth)\n",
    "print(\"\\nOrthogonal complement, (row space of v) =\\n\",vperp)\n",
    "\n",
    "# Computation of Lambda for computing covariance of X\n",
    "Lambda = vorth @ (CY @ vorth.T)\n",
    "Lambda = vorth.T @ np.linalg.solve(Lambda,vorth)\n",
    "Lambda = np.eye(CY.shape[0]) - CY @ Lambda\n",
    "Lambda = vperp @ Lambda\n",
    "\n",
    "print(\"\\nLambda = \\n\",Lambda)"
   ]
  },
  {
   "cell_type": "code",
   "execution_count": 30,
   "metadata": {
    "ExecuteTime": {
     "end_time": "2019-12-17T18:23:17.713959Z",
     "start_time": "2019-12-17T18:23:17.709992Z"
    }
   },
   "outputs": [
    {
     "name": "stdout",
     "output_type": "stream",
     "text": [
      "Mean of Xm (should be zero):\n",
      " 7.164407955784213e-16 \n",
      "\n",
      "Covariance of Xm (should be zero) \n",
      " 6.680208382728652e-31 \n",
      "\n"
     ]
    }
   ],
   "source": [
    "# Covariance of X and mean of X (should be zero)\n",
    "CX = Lambda @ (CY @ vperp.T)\n",
    "Xm = Lambda @ np.reshape(-y0.T,[nstruct*nxy,1])\n",
    "\n",
    "print(\"Mean of Xm (should be zero):\\n\",np.mean(Xm),\"\\n\")\n",
    "print(\"Covariance of Xm (should be zero) \\n\",np.cov(Xm,rowvar=False),\"\\n\")"
   ]
  },
  {
   "cell_type": "code",
   "execution_count": 33,
   "metadata": {
    "ExecuteTime": {
     "end_time": "2019-12-17T18:27:18.255978Z",
     "start_time": "2019-12-17T18:27:18.251945Z"
    }
   },
   "outputs": [
    {
     "name": "stdout",
     "output_type": "stream",
     "text": [
      "SigmaX (CX):\n"
     ]
    },
    {
     "data": {
      "text/plain": [
       "array([[ 0.976,  0.571,  0.004, -0.001],\n",
       "       [ 0.571,  0.976, -0.001,  0.004],\n",
       "       [ 0.004, -0.001,  0.999,  0.849],\n",
       "       [-0.001,  0.004,  0.849,  0.999]])"
      ]
     },
     "execution_count": 33,
     "metadata": {},
     "output_type": "execute_result"
    }
   ],
   "source": [
    "print('SigmaX (CX):')\n",
    "print(CX)"
   ]
  },
  {
   "cell_type": "markdown",
   "metadata": {},
   "source": [
    "## Simulation of the factors"
   ]
  },
  {
   "cell_type": "code",
   "execution_count": 34,
   "metadata": {
    "ExecuteTime": {
     "end_time": "2019-12-17T18:27:35.038851Z",
     "start_time": "2019-12-17T18:27:35.034894Z"
    }
   },
   "outputs": [
    {
     "name": "stdout",
     "output_type": "stream",
     "text": [
      "Performing Cholesky decomposition of SigmaX\n"
     ]
    }
   ],
   "source": [
    "print(\"Performing Cholesky decomposition of SigmaX\")\n",
    "# Cholesky of covariance of X for generating realizations\n",
    "BigLower = np.linalg.cholesky(CX)"
   ]
  },
  {
   "cell_type": "code",
   "execution_count": 35,
   "metadata": {
    "ExecuteTime": {
     "end_time": "2019-12-17T18:28:00.749320Z",
     "start_time": "2019-12-17T18:28:00.746330Z"
    }
   },
   "outputs": [
    {
     "name": "stdout",
     "output_type": "stream",
     "text": [
      "Lower L matrix:\n",
      "[[ 0.988  0.000  0.000  0.000]\n",
      " [ 0.578  0.801  0.000  0.000]\n",
      " [ 0.004 -0.005  0.999  0.000]\n",
      " [-0.001  0.006  0.849  0.527]]\n"
     ]
    }
   ],
   "source": [
    "print(\"Lower L matrix:\")\n",
    "print(BigLower)"
   ]
  },
  {
   "cell_type": "code",
   "execution_count": 75,
   "metadata": {
    "ExecuteTime": {
     "end_time": "2019-12-17T18:48:22.243878Z",
     "start_time": "2019-12-17T18:48:22.236901Z"
    }
   },
   "outputs": [
    {
     "name": "stdout",
     "output_type": "stream",
     "text": [
      "Realization #1\n",
      "\n",
      "random vector r:\n",
      "[-0.355  1.909  0.593 -1.076]\n",
      "\n",
      " simulated y vector:\n",
      "[[ 0.254]\n",
      " [-1.058]\n",
      " [-0.081]\n",
      " [-1.386]\n",
      " [-0.427]\n",
      " [ 2.317]\n",
      " [ 0.536]\n",
      " [-0.066]]\n",
      "\n",
      " Computed z values:\n",
      "[[ 0.146 -0.264]\n",
      " [-1.207  1.155]]\n",
      "\n",
      " Rreference z values:\n",
      "[[ 0.146 -0.264]\n",
      " [-1.207  1.155]]\n",
      "\n",
      "Realization #2\n",
      "\n",
      "random vector r:\n",
      "[-0.260  0.129 -0.698  1.482]\n",
      "\n",
      " simulated y vector:\n",
      "[[ 0.361]\n",
      " [-1.737]\n",
      " [-0.075]\n",
      " [-0.224]\n",
      " [-0.344]\n",
      " [ 2.096]\n",
      " [-0.742]\n",
      " [ 0.210]]\n",
      "\n",
      " Computed z values:\n",
      "[[ 0.146 -0.264]\n",
      " [-1.207  1.155]]\n",
      "\n",
      " Rreference z values:\n",
      "[[ 0.146 -0.264]\n",
      " [-1.207  1.155]]\n",
      "\n"
     ]
    }
   ],
   "source": [
    "\"\"\"Generate realizations of Y. This piece of code generates realizations of Y for any vector of random samples\"\"\"\n",
    "\n",
    "# Consider the two vectors from the article\n",
    "r = np.array([[-0.355,1.909,0.593,-1.076],\n",
    "              [-0.260,0.129,-0.698,1.482]])\n",
    "\n",
    "nreal = 2\n",
    "numx = 2 # number of structures Y (4) - number of Z (2)\n",
    "for ir in range(nreal):\n",
    "    print(\"Realization #{}\\n\".format(ir+1))\n",
    "    # r = np.random.normal(0,1,[numx*nxy,1])\n",
    "    print(\"random vector r:\")\n",
    "    print(r[ir])\n",
    "    \n",
    "    x = BigLower @ r[ir]\n",
    "    yi = np.reshape(vperp.T @ x,[nstruct,nxy]).T\n",
    "    yt = yi + y0\n",
    "    print(\"\\n simulated y vector:\")\n",
    "    print(np.reshape(yt.T,[nstruct*nxy,1]))\n",
    "\n",
    "    print(\"\\n Computed z values:\")\n",
    "    zt = AY @ np.reshape(yt.T,[nstruct*nxy,1])\n",
    "    zt = np.reshape(zt,[2,nxy]).T\n",
    "    print(zt)\n",
    "    print(\"\\n Rreference z values:\")\n",
    "    print(z)\n",
    "    print()"
   ]
  }
 ],
 "metadata": {
  "kernelspec": {
   "display_name": "Python 3",
   "language": "python",
   "name": "python3"
  },
  "language_info": {
   "codemirror_mode": {
    "name": "ipython",
    "version": 3
   },
   "file_extension": ".py",
   "mimetype": "text/x-python",
   "name": "python",
   "nbconvert_exporter": "python",
   "pygments_lexer": "ipython3",
   "version": "3.7.3"
  },
  "latex_envs": {
   "LaTeX_envs_menu_present": true,
   "autoclose": false,
   "autocomplete": true,
   "bibliofile": "biblio.bib",
   "cite_by": "apalike",
   "current_citInitial": 1,
   "eqLabelWithNumbers": true,
   "eqNumInitial": 1,
   "hotkeys": {
    "equation": "Ctrl-E",
    "itemize": "Ctrl-I"
   },
   "labels_anchors": false,
   "latex_user_defs": false,
   "report_style_numbering": false,
   "user_envs_cfg": false
  },
  "toc": {
   "base_numbering": 1,
   "nav_menu": {},
   "number_sections": true,
   "sideBar": true,
   "skip_h1_title": false,
   "title_cell": "Table of Contents",
   "title_sidebar": "Contents",
   "toc_cell": false,
   "toc_position": {
    "height": "calc(100% - 180px)",
    "left": "10px",
    "top": "150px",
    "width": "272px"
   },
   "toc_section_display": true,
   "toc_window_display": true
  }
 },
 "nbformat": 4,
 "nbformat_minor": 2
}
